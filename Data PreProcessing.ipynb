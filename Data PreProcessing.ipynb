{
  "nbformat": 4,
  "nbformat_minor": 0,
  "metadata": {
    "colab": {
      "provenance": [],
      "authorship_tag": "ABX9TyMyY4Z+oPYEeD07oNtgTiLE",
      "include_colab_link": true
    },
    "kernelspec": {
      "name": "python3",
      "display_name": "Python 3"
    },
    "language_info": {
      "name": "python"
    }
  },
  "cells": [
    {
      "cell_type": "markdown",
      "metadata": {
        "id": "view-in-github",
        "colab_type": "text"
      },
      "source": [
        "<a href=\"https://colab.research.google.com/github/AadishWorkspace/fertiliser-pred/blob/main/Data%20PreProcessing.ipynb\" target=\"_parent\"><img src=\"https://colab.research.google.com/assets/colab-badge.svg\" alt=\"Open In Colab\"/></a>"
      ]
    },
    {
      "cell_type": "code",
      "execution_count": 9,
      "metadata": {
        "colab": {
          "base_uri": "https://localhost:8080/"
        },
        "id": "Jk9sHdurKfUV",
        "outputId": "f8d41135-df6a-4ba5-9c08-3c67a5a34e42"
      },
      "outputs": [
        {
          "output_type": "stream",
          "name": "stdout",
          "text": [
            "  District_Name Soil_color  Nitrogen  Phosphorus  Potassium   pH  Rainfall  \\\n",
            "0      Kolhapur      Black        75          50        100  6.5      1000   \n",
            "1      Kolhapur      Black        80          50        100  6.5      1000   \n",
            "2      Kolhapur      Black        85          50        100  6.5      1000   \n",
            "3      Kolhapur      Black        90          50        100  6.5      1000   \n",
            "4      Kolhapur      Black        95          50        100  6.5      1000   \n",
            "\n",
            "   Temperature       Crop Fertilizer  \n",
            "0           20  Sugarcane       Urea  \n",
            "1           20  Sugarcane       Urea  \n",
            "2           20  Sugarcane       Urea  \n",
            "3           20  Sugarcane       Urea  \n",
            "4           20  Sugarcane       Urea  \n"
          ]
        }
      ],
      "source": [
        "import pandas as pd\n",
        "\n",
        "df = pd.read_csv('https://raw.githubusercontent.com/AadishWorkspace/fertiliser-pred/main/Crop%20and%20fertilizer%20dataset.csv')\n",
        "\n",
        "# Delete the 'Link' column.\n",
        "df = df.drop('Link', axis=1)\n",
        "\n",
        "df.to_csv('datasetv1.csv', index=False)\n",
        "\n",
        "print(df.head())\n"
      ]
    }
  ]
}