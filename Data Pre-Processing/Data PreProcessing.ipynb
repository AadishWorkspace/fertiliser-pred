{
  "nbformat": 4,
  "nbformat_minor": 0,
  "metadata": {
    "colab": {
      "provenance": [],
      "toc_visible": true,
      "authorship_tag": "ABX9TyMnKX/JRsI3FkAifIo7mCcw",
      "include_colab_link": true
    },
    "kernelspec": {
      "name": "python3",
      "display_name": "Python 3"
    },
    "language_info": {
      "name": "python"
    }
  },
  "cells": [
    {
      "cell_type": "markdown",
      "metadata": {
        "id": "view-in-github",
        "colab_type": "text"
      },
      "source": [
        "<a href=\"https://colab.research.google.com/github/AadishWorkspace/fertiliser-pred/blob/main/Data%20Pre-Processing/Data%20PreProcessing.ipynb\" target=\"_parent\"><img src=\"https://colab.research.google.com/assets/colab-badge.svg\" alt=\"Open In Colab\"/></a>"
      ]
    },
    {
      "cell_type": "markdown",
      "source": [
        "##Removed Link and District Col"
      ],
      "metadata": {
        "id": "Ky3i_-jgcleg"
      }
    },
    {
      "cell_type": "code",
      "execution_count": 20,
      "metadata": {
        "colab": {
          "base_uri": "https://localhost:8080/"
        },
        "id": "Jk9sHdurKfUV",
        "outputId": "23dbe00e-85cd-458f-cf26-b79dd71405f3"
      },
      "outputs": [
        {
          "output_type": "stream",
          "name": "stdout",
          "text": [
            "  Soil_color  Nitrogen  Phosphorus  Potassium   pH  Rainfall  Temperature  \\\n",
            "0      Black        75          50        100  6.5      1000           20   \n",
            "1      Black        80          50        100  6.5      1000           20   \n",
            "2      Black        85          50        100  6.5      1000           20   \n",
            "3      Black        90          50        100  6.5      1000           20   \n",
            "4      Black        95          50        100  6.5      1000           20   \n",
            "\n",
            "        Crop Fertilizer  \n",
            "0  Sugarcane       Urea  \n",
            "1  Sugarcane       Urea  \n",
            "2  Sugarcane       Urea  \n",
            "3  Sugarcane       Urea  \n",
            "4  Sugarcane       Urea  \n"
          ]
        }
      ],
      "source": [
        "import pandas as pd\n",
        "\n",
        "df = pd.read_csv('https://raw.githubusercontent.com/AadishWorkspace/fertiliser-pred/main/Data%20Pre-Processing/Crop%20and%20fertilizer%20dataset.csv')\n",
        "\n",
        "# Delete the 'Link' column.\n",
        "df = df.drop('Link', axis=1)\n",
        "df = df.drop('District_Name', axis=1)\n",
        "\n",
        "\n",
        "df.to_csv('datasetv1.csv', index=False)\n",
        "\n",
        "print(df.head())\n"
      ]
    },
    {
      "cell_type": "markdown",
      "source": [
        "##Removing Duplicates"
      ],
      "metadata": {
        "id": "vw2BHQxak1oe"
      }
    },
    {
      "cell_type": "code",
      "source": [
        "# Remove duplicate rows.\n",
        "df.drop_duplicates(inplace=True)\n",
        "\n",
        "df.to_csv('datasetv1.csv', index=False)\n"
      ],
      "metadata": {
        "id": "nAbJx76ZlkgP"
      },
      "execution_count": 21,
      "outputs": []
    },
    {
      "cell_type": "markdown",
      "source": [
        "##Pre Processing"
      ],
      "metadata": {
        "id": "0hfoOwk9cv9q"
      }
    },
    {
      "source": [
        "import pandas as pd\n",
        "\n",
        "df = pd.read_csv('datasetv1.csv')\n",
        "\n",
        "# Handle missing values.\n",
        "# Select only numerical columns for calculating the mean\n",
        "numerical_cols = df.select_dtypes(include=['number']).columns\n",
        "df[numerical_cols] = df[numerical_cols].fillna(df[numerical_cols].mean())  # Replace missing numerical values with the mean.\n",
        "\n",
        "#Fill missing values in 'Crop' with the mode\n",
        "df['Crop'].fillna(df['Crop'].mode()[0], inplace=True)\n",
        "\n",
        "# Encode categorical variables.\n",
        "# One-hot encoding for categorical features.\n",
        "df = pd.get_dummies(df, columns=['Crop', 'Soil_color'])\n",
        "\n",
        "# Normalize numerical features.\n",
        "from sklearn.preprocessing import MinMaxScaler\n",
        "scaler = MinMaxScaler()\n",
        "\n",
        "# Select numerical columns for normalization\n",
        "df[['Nitrogen', 'Phosphorus', 'Potassium', 'pH']] = scaler.fit_transform(df[['Nitrogen', 'Phosphorus', 'Potassium', 'pH']])\n",
        "\n",
        "# Save the preprocessed data.\n",
        "df.to_csv('preprocessed_dataset_v2.csv', index=False)\n",
        "\n",
        "print(df.head())"
      ],
      "cell_type": "code",
      "metadata": {
        "colab": {
          "base_uri": "https://localhost:8080/"
        },
        "id": "OtODttGFhWXK",
        "outputId": "3fa9f0e8-16f1-4768-f7bb-f6435f6133f1"
      },
      "execution_count": 24,
      "outputs": [
        {
          "output_type": "stream",
          "name": "stdout",
          "text": [
            "   Nitrogen  Phosphorus  Potassium        pH  Rainfall  Temperature  \\\n",
            "0  0.423077         0.5   0.655172  0.333333      1000           20   \n",
            "1  0.461538         0.5   0.655172  0.333333      1000           20   \n",
            "2  0.500000         0.5   0.655172  0.333333      1000           20   \n",
            "3  0.538462         0.5   0.655172  0.333333      1000           20   \n",
            "4  0.576923         0.5   0.655172  0.333333      1000           20   \n",
            "\n",
            "  Fertilizer  Crop_Cotton  Crop_Ginger  Crop_Gram  ...  Crop_Turmeric  \\\n",
            "0       Urea        False        False      False  ...          False   \n",
            "1       Urea        False        False      False  ...          False   \n",
            "2       Urea        False        False      False  ...          False   \n",
            "3       Urea        False        False      False  ...          False   \n",
            "4       Urea        False        False      False  ...          False   \n",
            "\n",
            "   Crop_Urad  Crop_Wheat  Soil_color_Black  Soil_color_Dark Brown  \\\n",
            "0      False       False              True                  False   \n",
            "1      False       False              True                  False   \n",
            "2      False       False              True                  False   \n",
            "3      False       False              True                  False   \n",
            "4      False       False              True                  False   \n",
            "\n",
            "   Soil_color_Light Brown  Soil_color_Medium Brown  Soil_color_Red  \\\n",
            "0                   False                    False           False   \n",
            "1                   False                    False           False   \n",
            "2                   False                    False           False   \n",
            "3                   False                    False           False   \n",
            "4                   False                    False           False   \n",
            "\n",
            "   Soil_color_Red   Soil_color_Reddish Brown  \n",
            "0            False                     False  \n",
            "1            False                     False  \n",
            "2            False                     False  \n",
            "3            False                     False  \n",
            "4            False                     False  \n",
            "\n",
            "[5 rows x 30 columns]\n"
          ]
        }
      ]
    },
    {
      "cell_type": "markdown",
      "source": [
        "##Download Data"
      ],
      "metadata": {
        "id": "sPRorbSbobUb"
      }
    },
    {
      "cell_type": "code",
      "source": [
        "from google.colab import files\n",
        "files.download('preprocessed_dataset_v2.csv')\n"
      ],
      "metadata": {
        "colab": {
          "base_uri": "https://localhost:8080/",
          "height": 17
        },
        "id": "NP8X3BqaodoQ",
        "outputId": "bb220bec-3f1a-43e1-d518-f4c1e214b95c"
      },
      "execution_count": 25,
      "outputs": [
        {
          "output_type": "display_data",
          "data": {
            "text/plain": [
              "<IPython.core.display.Javascript object>"
            ],
            "application/javascript": [
              "\n",
              "    async function download(id, filename, size) {\n",
              "      if (!google.colab.kernel.accessAllowed) {\n",
              "        return;\n",
              "      }\n",
              "      const div = document.createElement('div');\n",
              "      const label = document.createElement('label');\n",
              "      label.textContent = `Downloading \"${filename}\": `;\n",
              "      div.appendChild(label);\n",
              "      const progress = document.createElement('progress');\n",
              "      progress.max = size;\n",
              "      div.appendChild(progress);\n",
              "      document.body.appendChild(div);\n",
              "\n",
              "      const buffers = [];\n",
              "      let downloaded = 0;\n",
              "\n",
              "      const channel = await google.colab.kernel.comms.open(id);\n",
              "      // Send a message to notify the kernel that we're ready.\n",
              "      channel.send({})\n",
              "\n",
              "      for await (const message of channel.messages) {\n",
              "        // Send a message to notify the kernel that we're ready.\n",
              "        channel.send({})\n",
              "        if (message.buffers) {\n",
              "          for (const buffer of message.buffers) {\n",
              "            buffers.push(buffer);\n",
              "            downloaded += buffer.byteLength;\n",
              "            progress.value = downloaded;\n",
              "          }\n",
              "        }\n",
              "      }\n",
              "      const blob = new Blob(buffers, {type: 'application/binary'});\n",
              "      const a = document.createElement('a');\n",
              "      a.href = window.URL.createObjectURL(blob);\n",
              "      a.download = filename;\n",
              "      div.appendChild(a);\n",
              "      a.click();\n",
              "      div.remove();\n",
              "    }\n",
              "  "
            ]
          },
          "metadata": {}
        },
        {
          "output_type": "display_data",
          "data": {
            "text/plain": [
              "<IPython.core.display.Javascript object>"
            ],
            "application/javascript": [
              "download(\"download_8c4d6fbe-4b8e-450b-953c-2b764c7ed114\", \"preprocessed_dataset_v2.csv\", 962609)"
            ]
          },
          "metadata": {}
        }
      ]
    }
  ]
}