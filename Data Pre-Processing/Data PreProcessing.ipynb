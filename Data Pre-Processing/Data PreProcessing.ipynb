{
  "nbformat": 4,
  "nbformat_minor": 0,
  "metadata": {
    "colab": {
      "provenance": [],
      "toc_visible": true,
      "authorship_tag": "ABX9TyO3c0ONfdiZUuPpNTCb6gth"
    },
    "kernelspec": {
      "name": "python3",
      "display_name": "Python 3"
    },
    "language_info": {
      "name": "python"
    }
  },
  "cells": [
    {
      "cell_type": "markdown",
      "source": [
        "##Removed Link and District Col"
      ],
      "metadata": {
        "id": "Ky3i_-jgcleg"
      }
    },
    {
      "cell_type": "code",
      "execution_count": 1,
      "metadata": {
        "colab": {
          "base_uri": "https://localhost:8080/"
        },
        "id": "Jk9sHdurKfUV",
        "outputId": "8613c697-0da1-4b2c-eef1-9cea67934b11"
      },
      "outputs": [
        {
          "output_type": "stream",
          "name": "stdout",
          "text": [
            "  District_Name Soil_color  Nitrogen  Phosphorus  Potassium   pH  Rainfall  \\\n",
            "0      Kolhapur      Black        75          50        100  6.5      1000   \n",
            "1      Kolhapur      Black        80          50        100  6.5      1000   \n",
            "2      Kolhapur      Black        85          50        100  6.5      1000   \n",
            "3      Kolhapur      Black        90          50        100  6.5      1000   \n",
            "4      Kolhapur      Black        95          50        100  6.5      1000   \n",
            "\n",
            "   Temperature       Crop Fertilizer  \n",
            "0           20  Sugarcane       Urea  \n",
            "1           20  Sugarcane       Urea  \n",
            "2           20  Sugarcane       Urea  \n",
            "3           20  Sugarcane       Urea  \n",
            "4           20  Sugarcane       Urea  \n"
          ]
        }
      ],
      "source": [
        "import pandas as pd\n",
        "\n",
        "df = pd.read_csv('https://raw.githubusercontent.com/AadishWorkspace/fertiliser-pred/main/Data%20Pre-Processing/Crop%20and%20fertilizer%20dataset.csv')\n",
        "\n",
        "# Delete the 'Link' column.\n",
        "df = df.drop('Link', axis=1)\n",
        "\n",
        "\n",
        "df.to_csv('dataset.csv', index=False)\n",
        "\n",
        "print(df.head())\n"
      ]
    },
    {
      "cell_type": "markdown",
      "source": [
        "##Removing Duplicates"
      ],
      "metadata": {
        "id": "vw2BHQxak1oe"
      }
    },
    {
      "cell_type": "code",
      "source": [
        "# Remove duplicate rows.\n",
        "df.drop_duplicates(inplace=True)\n",
        "\n",
        "df.to_csv('dataset.csv', index=False)\n"
      ],
      "metadata": {
        "id": "nAbJx76ZlkgP"
      },
      "execution_count": 2,
      "outputs": []
    },
    {
      "cell_type": "markdown",
      "source": [
        "##Pre Processing"
      ],
      "metadata": {
        "id": "0hfoOwk9cv9q"
      }
    },
    {
      "source": [
        "import pandas as pd\n",
        "\n",
        "df = pd.read_csv('dataset.csv')\n",
        "\n",
        "# Handle missing values.\n",
        "# Select only numerical columns for calculating the mean\n",
        "numerical_cols = df.select_dtypes(include=['number']).columns\n",
        "df[numerical_cols] = df[numerical_cols].fillna(df[numerical_cols].mean())  # Replace missing numerical values with the mean.\n",
        "\n",
        "#Fill missing values in 'Crop' with the mode\n",
        "df['Crop'].fillna(df['Crop'].mode()[0], inplace=True)\n",
        "\n",
        "# Encode categorical variables.\n",
        "# One-hot encoding for categorical features.\n",
        "df = pd.get_dummies(df, columns=['Crop', 'Soil_color', 'District_Name'])\n",
        "\n",
        "# Normalize numerical features.\n",
        "from sklearn.preprocessing import MinMaxScaler\n",
        "scaler = MinMaxScaler()\n",
        "\n",
        "# Select numerical columns for normalization\n",
        "df[['Nitrogen', 'Phosphorus', 'Potassium', 'pH']] = scaler.fit_transform(df[['Nitrogen', 'Phosphorus', 'Potassium', 'pH']])\n",
        "\n",
        "# Save the preprocessed data.\n",
        "df.to_csv('preprocessed_dataset.csv', index=False)\n",
        "\n",
        "print(df.head())"
      ],
      "cell_type": "code",
      "metadata": {
        "colab": {
          "base_uri": "https://localhost:8080/"
        },
        "id": "OtODttGFhWXK",
        "outputId": "8028cd3d-706f-4f12-f961-4fa3fafefcb2"
      },
      "execution_count": 6,
      "outputs": [
        {
          "output_type": "stream",
          "name": "stdout",
          "text": [
            "   Nitrogen  Phosphorus  Potassium        pH  Rainfall  Temperature  \\\n",
            "0  0.423077         0.5   0.655172  0.333333      1000           20   \n",
            "1  0.461538         0.5   0.655172  0.333333      1000           20   \n",
            "2  0.500000         0.5   0.655172  0.333333      1000           20   \n",
            "3  0.538462         0.5   0.655172  0.333333      1000           20   \n",
            "4  0.576923         0.5   0.655172  0.333333      1000           20   \n",
            "\n",
            "  Fertilizer  Crop_Cotton  Crop_Ginger  Crop_Gram  ...  \\\n",
            "0       Urea        False        False      False  ...   \n",
            "1       Urea        False        False      False  ...   \n",
            "2       Urea        False        False      False  ...   \n",
            "3       Urea        False        False      False  ...   \n",
            "4       Urea        False        False      False  ...   \n",
            "\n",
            "   Soil_color_Light Brown  Soil_color_Medium Brown  Soil_color_Red  \\\n",
            "0                   False                    False           False   \n",
            "1                   False                    False           False   \n",
            "2                   False                    False           False   \n",
            "3                   False                    False           False   \n",
            "4                   False                    False           False   \n",
            "\n",
            "   Soil_color_Red   Soil_color_Reddish Brown  District_Name_Kolhapur  \\\n",
            "0            False                     False                    True   \n",
            "1            False                     False                    True   \n",
            "2            False                     False                    True   \n",
            "3            False                     False                    True   \n",
            "4            False                     False                    True   \n",
            "\n",
            "   District_Name_Pune  District_Name_Sangli  District_Name_Satara  \\\n",
            "0               False                 False                 False   \n",
            "1               False                 False                 False   \n",
            "2               False                 False                 False   \n",
            "3               False                 False                 False   \n",
            "4               False                 False                 False   \n",
            "\n",
            "   District_Name_Solapur  \n",
            "0                  False  \n",
            "1                  False  \n",
            "2                  False  \n",
            "3                  False  \n",
            "4                  False  \n",
            "\n",
            "[5 rows x 35 columns]\n"
          ]
        }
      ]
    },
    {
      "cell_type": "markdown",
      "source": [
        "##Download Data"
      ],
      "metadata": {
        "id": "sPRorbSbobUb"
      }
    },
    {
      "cell_type": "code",
      "source": [
        "from google.colab import files\n",
        "files.download('preprocessed_dataset.csv')\n"
      ],
      "metadata": {
        "colab": {
          "base_uri": "https://localhost:8080/",
          "height": 17
        },
        "id": "NP8X3BqaodoQ",
        "outputId": "de3b2349-a428-4b74-b9a7-3a65447814ba"
      },
      "execution_count": 7,
      "outputs": [
        {
          "output_type": "display_data",
          "data": {
            "text/plain": [
              "<IPython.core.display.Javascript object>"
            ],
            "application/javascript": [
              "\n",
              "    async function download(id, filename, size) {\n",
              "      if (!google.colab.kernel.accessAllowed) {\n",
              "        return;\n",
              "      }\n",
              "      const div = document.createElement('div');\n",
              "      const label = document.createElement('label');\n",
              "      label.textContent = `Downloading \"${filename}\": `;\n",
              "      div.appendChild(label);\n",
              "      const progress = document.createElement('progress');\n",
              "      progress.max = size;\n",
              "      div.appendChild(progress);\n",
              "      document.body.appendChild(div);\n",
              "\n",
              "      const buffers = [];\n",
              "      let downloaded = 0;\n",
              "\n",
              "      const channel = await google.colab.kernel.comms.open(id);\n",
              "      // Send a message to notify the kernel that we're ready.\n",
              "      channel.send({})\n",
              "\n",
              "      for await (const message of channel.messages) {\n",
              "        // Send a message to notify the kernel that we're ready.\n",
              "        channel.send({})\n",
              "        if (message.buffers) {\n",
              "          for (const buffer of message.buffers) {\n",
              "            buffers.push(buffer);\n",
              "            downloaded += buffer.byteLength;\n",
              "            progress.value = downloaded;\n",
              "          }\n",
              "        }\n",
              "      }\n",
              "      const blob = new Blob(buffers, {type: 'application/binary'});\n",
              "      const a = document.createElement('a');\n",
              "      a.href = window.URL.createObjectURL(blob);\n",
              "      a.download = filename;\n",
              "      div.appendChild(a);\n",
              "      a.click();\n",
              "      div.remove();\n",
              "    }\n",
              "  "
            ]
          },
          "metadata": {}
        },
        {
          "output_type": "display_data",
          "data": {
            "text/plain": [
              "<IPython.core.display.Javascript object>"
            ],
            "application/javascript": [
              "download(\"download_c986620e-0e97-4d91-a761-03f125f70087\", \"preprocessed_dataset.csv\", 1093592)"
            ]
          },
          "metadata": {}
        }
      ]
    }
  ]
}