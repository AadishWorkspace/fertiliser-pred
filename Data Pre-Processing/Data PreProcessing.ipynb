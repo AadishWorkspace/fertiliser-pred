{
  "nbformat": 4,
  "nbformat_minor": 0,
  "metadata": {
    "colab": {
      "provenance": [],
      "toc_visible": true,
      "authorship_tag": "ABX9TyPwVWC5Qgfu0LvF3lJeB23z"
    },
    "kernelspec": {
      "name": "python3",
      "display_name": "Python 3"
    },
    "language_info": {
      "name": "python"
    }
  },
  "cells": [
    {
      "cell_type": "markdown",
      "source": [
        "##Removed Link Col"
      ],
      "metadata": {
        "id": "Ky3i_-jgcleg"
      }
    },
    {
      "cell_type": "code",
      "execution_count": 25,
      "metadata": {
        "colab": {
          "base_uri": "https://localhost:8080/"
        },
        "id": "Jk9sHdurKfUV",
        "outputId": "8ebe9e70-daef-4a0b-a4f9-883d317e1920"
      },
      "outputs": [
        {
          "output_type": "stream",
          "name": "stdout",
          "text": [
            "  District_Name Soil_color  Nitrogen  Phosphorus  Potassium   pH  Rainfall  \\\n",
            "0      Kolhapur      Black        75          50        100  6.5      1000   \n",
            "1      Kolhapur      Black        80          50        100  6.5      1000   \n",
            "2      Kolhapur      Black        85          50        100  6.5      1000   \n",
            "3      Kolhapur      Black        90          50        100  6.5      1000   \n",
            "4      Kolhapur      Black        95          50        100  6.5      1000   \n",
            "\n",
            "   Temperature       Crop Fertilizer  \n",
            "0           20  Sugarcane       Urea  \n",
            "1           20  Sugarcane       Urea  \n",
            "2           20  Sugarcane       Urea  \n",
            "3           20  Sugarcane       Urea  \n",
            "4           20  Sugarcane       Urea  \n"
          ]
        }
      ],
      "source": [
        "import pandas as pd\n",
        "\n",
        "df = pd.read_csv('https://raw.githubusercontent.com/AadishWorkspace/fertiliser-pred/main/Date%20Pre-Processing/Crop%20and%20fertilizer%20dataset.csv')\n",
        "\n",
        "# Delete the 'Link' column.\n",
        "df = df.drop('Link', axis=1)\n",
        "\n",
        "df.to_csv('datasetv1.csv', index=False)\n",
        "\n",
        "print(df.head())\n"
      ]
    },
    {
      "cell_type": "markdown",
      "source": [
        "##Removing Duplicates"
      ],
      "metadata": {
        "id": "vw2BHQxak1oe"
      }
    },
    {
      "cell_type": "code",
      "source": [
        "# Remove duplicate rows.\n",
        "df.drop_duplicates(inplace=True)\n",
        "\n",
        "df.to_csv('datasetv1.csv', index=False)\n"
      ],
      "metadata": {
        "id": "nAbJx76ZlkgP"
      },
      "execution_count": 26,
      "outputs": []
    },
    {
      "cell_type": "markdown",
      "source": [
        "##Pre Processing"
      ],
      "metadata": {
        "id": "0hfoOwk9cv9q"
      }
    },
    {
      "source": [
        "import pandas as pd\n",
        "\n",
        "df = pd.read_csv('datasetv1.csv')\n",
        "\n",
        "# Handle missing values.\n",
        "# Select only numerical columns for calculating the mean\n",
        "numerical_cols = df.select_dtypes(include=['number']).columns\n",
        "df[numerical_cols] = df[numerical_cols].fillna(df[numerical_cols].mean())  # Replace missing numerical values with the mean.\n",
        "\n",
        "#Fill missing values in 'Crop' with the mode\n",
        "df['Crop'].fillna(df['Crop'].mode()[0], inplace=True)\n",
        "\n",
        "# Encode categorical variables.\n",
        "# One-hot encoding for categorical features.\n",
        "df = pd.get_dummies(df, columns=['Crop', 'Soil_color'])\n",
        "\n",
        "# Normalize numerical features.\n",
        "from sklearn.preprocessing import MinMaxScaler\n",
        "scaler = MinMaxScaler()\n",
        "\n",
        "# Select numerical columns for normalization\n",
        "df[['Nitrogen', 'Phosphorus', 'Potassium', 'pH']] = scaler.fit_transform(df[['Nitrogen', 'Phosphorus', 'Potassium', 'pH']])\n",
        "\n",
        "# Save the preprocessed data.\n",
        "df.to_csv('preprocessed_dataset.csv', index=False)\n",
        "\n",
        "print(df.head())"
      ],
      "cell_type": "code",
      "metadata": {
        "colab": {
          "base_uri": "https://localhost:8080/"
        },
        "id": "OtODttGFhWXK",
        "outputId": "e3567823-d2f2-4923-9551-6684851f853c"
      },
      "execution_count": 28,
      "outputs": [
        {
          "output_type": "stream",
          "name": "stdout",
          "text": [
            "  District_Name  Nitrogen  Phosphorus  Potassium        pH  Rainfall  \\\n",
            "0      Kolhapur  0.423077         0.5   0.655172  0.333333      1000   \n",
            "1      Kolhapur  0.461538         0.5   0.655172  0.333333      1000   \n",
            "2      Kolhapur  0.500000         0.5   0.655172  0.333333      1000   \n",
            "3      Kolhapur  0.538462         0.5   0.655172  0.333333      1000   \n",
            "4      Kolhapur  0.576923         0.5   0.655172  0.333333      1000   \n",
            "\n",
            "   Temperature Fertilizer  Crop_Cotton  Crop_Ginger  ...  Crop_Turmeric  \\\n",
            "0           20       Urea        False        False  ...          False   \n",
            "1           20       Urea        False        False  ...          False   \n",
            "2           20       Urea        False        False  ...          False   \n",
            "3           20       Urea        False        False  ...          False   \n",
            "4           20       Urea        False        False  ...          False   \n",
            "\n",
            "   Crop_Urad  Crop_Wheat  Soil_color_Black  Soil_color_Dark Brown  \\\n",
            "0      False       False              True                  False   \n",
            "1      False       False              True                  False   \n",
            "2      False       False              True                  False   \n",
            "3      False       False              True                  False   \n",
            "4      False       False              True                  False   \n",
            "\n",
            "   Soil_color_Light Brown  Soil_color_Medium Brown  Soil_color_Red  \\\n",
            "0                   False                    False           False   \n",
            "1                   False                    False           False   \n",
            "2                   False                    False           False   \n",
            "3                   False                    False           False   \n",
            "4                   False                    False           False   \n",
            "\n",
            "   Soil_color_Red   Soil_color_Reddish Brown  \n",
            "0            False                     False  \n",
            "1            False                     False  \n",
            "2            False                     False  \n",
            "3            False                     False  \n",
            "4            False                     False  \n",
            "\n",
            "[5 rows x 31 columns]\n"
          ]
        }
      ]
    }
  ]
}